{
 "cells": [
  {
   "cell_type": "markdown",
   "metadata": {},
   "source": [
    "# ГЛАВА 3 Составные типы"
   ]
  },
  {
   "cell_type": "markdown",
   "metadata": {},
   "source": [
    "## Структуры"
   ]
  },
  {
   "cell_type": "code",
   "execution_count": 161,
   "metadata": {},
   "outputs": [],
   "source": [
    "type person struct {\n",
    "\tname string\n",
    "\tage int\n",
    "\tpet string\n",
    "   }"
   ]
  },
  {
   "cell_type": "code",
   "execution_count": 162,
   "metadata": {},
   "outputs": [],
   "source": [
    "var fred person"
   ]
  },
  {
   "cell_type": "code",
   "execution_count": 163,
   "metadata": {},
   "outputs": [],
   "source": [
    "bob := person{}"
   ]
  },
  {
   "cell_type": "code",
   "execution_count": 164,
   "metadata": {},
   "outputs": [],
   "source": [
    "julia := person{\n",
    " \"Julia\",\n",
    " 40,\n",
    " \"cat\",\n",
    "}"
   ]
  },
  {
   "cell_type": "code",
   "execution_count": 165,
   "metadata": {},
   "outputs": [
    {
     "data": {
      "text/plain": [
       "{Julia 40 cat}"
      ]
     },
     "execution_count": 165,
     "metadata": {},
     "output_type": "execute_result"
    }
   ],
   "source": [
    "julia"
   ]
  },
  {
   "cell_type": "code",
   "execution_count": 166,
   "metadata": {},
   "outputs": [],
   "source": [
    "beth := person{\n",
    " age: 30,\n",
    " name: \"Beth\",\n",
    "}"
   ]
  },
  {
   "cell_type": "code",
   "execution_count": 167,
   "metadata": {},
   "outputs": [
    {
     "data": {
      "text/plain": [
       "{Beth 30 }"
      ]
     },
     "execution_count": 167,
     "metadata": {},
     "output_type": "execute_result"
    }
   ],
   "source": [
    "beth"
   ]
  },
  {
   "cell_type": "code",
   "execution_count": 168,
   "metadata": {},
   "outputs": [],
   "source": [
    "bob.name = \"Bob\""
   ]
  },
  {
   "cell_type": "code",
   "execution_count": 169,
   "metadata": {},
   "outputs": [
    {
     "data": {
      "text/plain": [
       "Bob"
      ]
     },
     "execution_count": 169,
     "metadata": {},
     "output_type": "execute_result"
    }
   ],
   "source": [
    "bob.name"
   ]
  },
  {
   "cell_type": "markdown",
   "metadata": {},
   "source": [
    "### Анонимные структуры"
   ]
  },
  {
   "cell_type": "code",
   "execution_count": 170,
   "metadata": {},
   "outputs": [],
   "source": [
    "var person struct {\n",
    " name string\n",
    " age int\n",
    " pet string\n",
    "}"
   ]
  },
  {
   "cell_type": "code",
   "execution_count": 171,
   "metadata": {},
   "outputs": [],
   "source": [
    "person.name = \"bob\"\n",
    "person.age = 50\n",
    "person.pet = \"dog\""
   ]
  },
  {
   "cell_type": "code",
   "execution_count": 172,
   "metadata": {},
   "outputs": [
    {
     "data": {
      "text/plain": [
       "{bob 50 dog}"
      ]
     },
     "execution_count": 172,
     "metadata": {},
     "output_type": "execute_result"
    }
   ],
   "source": [
    "person"
   ]
  },
  {
   "cell_type": "code",
   "execution_count": 173,
   "metadata": {},
   "outputs": [],
   "source": [
    "pet := struct {\n",
    " name string\n",
    " kind string\n",
    "}{\n",
    " name: \"Fido\",\n",
    " kind: \"dog\",\n",
    "}"
   ]
  },
  {
   "cell_type": "code",
   "execution_count": 174,
   "metadata": {},
   "outputs": [
    {
     "data": {
      "text/plain": [
       "{Fido dog}"
      ]
     },
     "execution_count": 174,
     "metadata": {},
     "output_type": "execute_result"
    }
   ],
   "source": [
    "pet"
   ]
  },
  {
   "cell_type": "markdown",
   "metadata": {},
   "source": [
    "### Сравнение и преобразование структур"
   ]
  },
  {
   "cell_type": "code",
   "execution_count": 175,
   "metadata": {},
   "outputs": [],
   "source": [
    "type firstPerson struct {\n",
    " name string\n",
    " age int\n",
    "}"
   ]
  },
  {
   "cell_type": "code",
   "execution_count": 176,
   "metadata": {},
   "outputs": [],
   "source": [
    "type secondPerson struct {\n",
    " name string\n",
    " age int\n",
    "}"
   ]
  },
  {
   "cell_type": "code",
   "execution_count": 177,
   "metadata": {},
   "outputs": [],
   "source": [
    "var p1 firstPerson\n",
    "var p2 secondPerson\n",
    "var p0 firstPerson"
   ]
  },
  {
   "cell_type": "code",
   "execution_count": 178,
   "metadata": {},
   "outputs": [],
   "source": [
    "p1 = p2"
   ]
  },
  {
   "cell_type": "code",
   "execution_count": 179,
   "metadata": {},
   "outputs": [
    {
     "ename": "ERROR",
     "evalue": "repl.go:1:7: mismatched types in binary operation == between <main.firstPerson> and <main.secondPerson>: p1 == p2",
     "output_type": "error",
     "traceback": [
      "repl.go:1:7: mismatched types in binary operation == between <main.firstPerson> and <main.secondPerson>: p1 == p2"
     ]
    }
   ],
   "source": [
    "p1 == p2"
   ]
  },
  {
   "cell_type": "code",
   "execution_count": 180,
   "metadata": {},
   "outputs": [
    {
     "data": {
      "text/plain": [
       "true"
      ]
     },
     "execution_count": 180,
     "metadata": {},
     "output_type": "execute_result"
    }
   ],
   "source": [
    "p1 == p0"
   ]
  },
  {
   "cell_type": "code",
   "execution_count": 181,
   "metadata": {},
   "outputs": [],
   "source": [
    "type thirdPerson struct {\n",
    " age int\n",
    " name string\n",
    "}"
   ]
  },
  {
   "cell_type": "code",
   "execution_count": 182,
   "metadata": {},
   "outputs": [],
   "source": [
    "var p3 thirdPerson"
   ]
  },
  {
   "cell_type": "code",
   "execution_count": 183,
   "metadata": {},
   "outputs": [
    {
     "ename": "ERROR",
     "evalue": "repl.go:1:1: error compiling assignment: p1 = p3\n\trepl.go:1:1: incompatible types in assignment: main.firstPerson = main.thirdPerson",
     "output_type": "error",
     "traceback": [
      "repl.go:1:1: error compiling assignment: p1 = p3\n\trepl.go:1:1: incompatible types in assignment: main.firstPerson = main.thirdPerson"
     ]
    }
   ],
   "source": [
    "p1 = p3"
   ]
  },
  {
   "cell_type": "code",
   "execution_count": 184,
   "metadata": {},
   "outputs": [
    {
     "ename": "ERROR",
     "evalue": "repl.go:1:7: mismatched types in binary operation == between <main.firstPerson> and <main.thirdPerson>: p1 == p3",
     "output_type": "error",
     "traceback": [
      "repl.go:1:7: mismatched types in binary operation == between <main.firstPerson> and <main.thirdPerson>: p1 == p3"
     ]
    }
   ],
   "source": [
    "p1 == p3"
   ]
  },
  {
   "cell_type": "code",
   "execution_count": 185,
   "metadata": {},
   "outputs": [],
   "source": [
    "type fourthPerson struct {\n",
    " firstName string\n",
    " age int\n",
    "}"
   ]
  },
  {
   "cell_type": "code",
   "execution_count": 186,
   "metadata": {},
   "outputs": [],
   "source": [
    "var p4 fourthPerson"
   ]
  },
  {
   "cell_type": "code",
   "execution_count": 187,
   "metadata": {},
   "outputs": [
    {
     "ename": "ERROR",
     "evalue": "repl.go:1:1: error compiling assignment: p1 = p4\n\trepl.go:1:1: incompatible types in assignment: main.firstPerson = main.fourthPerson",
     "output_type": "error",
     "traceback": [
      "repl.go:1:1: error compiling assignment: p1 = p4\n\trepl.go:1:1: incompatible types in assignment: main.firstPerson = main.fourthPerson"
     ]
    }
   ],
   "source": [
    "p1 = p4"
   ]
  },
  {
   "cell_type": "code",
   "execution_count": 188,
   "metadata": {},
   "outputs": [
    {
     "ename": "ERROR",
     "evalue": "repl.go:1:7: mismatched types in binary operation == between <main.firstPerson> and <main.fourthPerson>: p1 == p4",
     "output_type": "error",
     "traceback": [
      "repl.go:1:7: mismatched types in binary operation == between <main.firstPerson> and <main.fourthPerson>: p1 == p4"
     ]
    }
   ],
   "source": [
    "p1 == p4"
   ]
  },
  {
   "cell_type": "code",
   "execution_count": 189,
   "metadata": {},
   "outputs": [],
   "source": [
    "type fifthPerson struct {\n",
    " name string\n",
    " age int\n",
    " favoriteColor string\n",
    "}"
   ]
  },
  {
   "cell_type": "code",
   "execution_count": 190,
   "metadata": {},
   "outputs": [],
   "source": [
    "var p5 fifthPerson"
   ]
  },
  {
   "cell_type": "code",
   "execution_count": 191,
   "metadata": {},
   "outputs": [
    {
     "ename": "ERROR",
     "evalue": "repl.go:1:1: error compiling assignment: p1 = p5\n\trepl.go:1:1: incompatible types in assignment: main.firstPerson = main.fifthPerson",
     "output_type": "error",
     "traceback": [
      "repl.go:1:1: error compiling assignment: p1 = p5\n\trepl.go:1:1: incompatible types in assignment: main.firstPerson = main.fifthPerson"
     ]
    }
   ],
   "source": [
    "p1 = p5"
   ]
  },
  {
   "cell_type": "code",
   "execution_count": 192,
   "metadata": {},
   "outputs": [
    {
     "ename": "ERROR",
     "evalue": "repl.go:1:7: mismatched types in binary operation == between <main.firstPerson> and <main.fifthPerson>: p1 == p5",
     "output_type": "error",
     "traceback": [
      "repl.go:1:7: mismatched types in binary operation == between <main.firstPerson> and <main.fifthPerson>: p1 == p5"
     ]
    }
   ],
   "source": [
    "p1 == p5"
   ]
  },
  {
   "cell_type": "code",
   "execution_count": 202,
   "metadata": {},
   "outputs": [],
   "source": [
    "type sixthPerson struct {\n",
    " name string\n",
    " age int\n",
    "}\n",
    "p6 := sixthPerson{\n",
    " name: \"Bob\",\n",
    " age: 50,\n",
    "}\n",
    "var p7 struct {\n",
    " name string\n",
    " age int\n",
    "}"
   ]
  },
  {
   "cell_type": "code",
   "execution_count": 203,
   "metadata": {},
   "outputs": [],
   "source": [
    "p6 = p7"
   ]
  },
  {
   "cell_type": "code",
   "execution_count": 204,
   "metadata": {},
   "outputs": [
    {
     "ename": "ERROR",
     "evalue": "repl.go:1:7: mismatched types in binary operation == between <main.sixthPerson> and <struct{name string; age int}>: p6 == p7",
     "output_type": "error",
     "traceback": [
      "repl.go:1:7: mismatched types in binary operation == between <main.sixthPerson> and <struct{name string; age int}>: p6 == p7"
     ]
    }
   ],
   "source": [
    "p6 == p7"
   ]
  },
  {
   "cell_type": "code",
   "execution_count": null,
   "metadata": {},
   "outputs": [],
   "source": []
  }
 ],
 "metadata": {
  "kernelspec": {
   "display_name": "Go",
   "language": "go",
   "name": "gophernotes"
  },
  "language_info": {
   "codemirror_mode": "",
   "file_extension": ".go",
   "mimetype": "",
   "name": "go",
   "nbconvert_exporter": "",
   "pygments_lexer": "",
   "version": "go1.23.2"
  }
 },
 "nbformat": 4,
 "nbformat_minor": 4
}
