{
 "cells": [
  {
   "cell_type": "markdown",
   "id": "d3197b0e-33b5-4410-aef8-bc733260e2a8",
   "metadata": {},
   "source": [
    "# ГЛАВА 6 Указатели"
   ]
  },
  {
   "cell_type": "markdown",
   "id": "afd49984-7a99-4566-9fb9-f040c168c487",
   "metadata": {},
   "source": [
    "## Общие сведения об указателях"
   ]
  },
  {
   "cell_type": "code",
   "execution_count": 68,
   "id": "51196ef5-80bd-4e1f-925d-5d948eebc4ad",
   "metadata": {},
   "outputs": [],
   "source": [
    "var x int32 = 10\n",
    "var y bool = true\n",
    "pointerX := &x\n",
    "pointerY := &y\n",
    "var pointerZ *string"
   ]
  },
  {
   "cell_type": "code",
   "execution_count": 69,
   "id": "faea4550-e1e6-45d3-b14d-05169d567cef",
   "metadata": {},
   "outputs": [
    {
     "data": {
      "text/plain": [
       "10"
      ]
     },
     "execution_count": 69,
     "metadata": {},
     "output_type": "execute_result"
    }
   ],
   "source": [
    "x"
   ]
  },
  {
   "cell_type": "code",
   "execution_count": 70,
   "id": "00fcdad2-29d8-4ad6-9a73-f4a1ae0f7111",
   "metadata": {},
   "outputs": [
    {
     "data": {
      "text/plain": [
       "true"
      ]
     },
     "execution_count": 70,
     "metadata": {},
     "output_type": "execute_result"
    }
   ],
   "source": [
    "y"
   ]
  },
  {
   "cell_type": "code",
   "execution_count": 71,
   "id": "d303d11d-25ac-49b6-bae3-5c9976c84fac",
   "metadata": {},
   "outputs": [
    {
     "data": {
      "text/plain": [
       "0xc000136040"
      ]
     },
     "execution_count": 71,
     "metadata": {},
     "output_type": "execute_result"
    }
   ],
   "source": [
    "pointerX"
   ]
  },
  {
   "cell_type": "code",
   "execution_count": 72,
   "id": "12a34170-dd21-4331-b2e6-6bb4cc6c52c5",
   "metadata": {},
   "outputs": [
    {
     "data": {
      "text/plain": [
       "0xc000136008"
      ]
     },
     "execution_count": 72,
     "metadata": {},
     "output_type": "execute_result"
    }
   ],
   "source": [
    "pointerY"
   ]
  },
  {
   "cell_type": "code",
   "execution_count": 73,
   "id": "3882b78c-86a5-4a84-8a93-ddc4fb2d2b3e",
   "metadata": {},
   "outputs": [
    {
     "data": {
      "text/plain": [
       "<nil>"
      ]
     },
     "execution_count": 73,
     "metadata": {},
     "output_type": "execute_result"
    }
   ],
   "source": [
    "pointerZ"
   ]
  },
  {
   "cell_type": "code",
   "execution_count": 74,
   "id": "d7a46149-54f1-437a-af96-4f5e7fdb6453",
   "metadata": {},
   "outputs": [],
   "source": [
    "x := \"hello\"\n",
    "pointerToX := &x"
   ]
  },
  {
   "cell_type": "code",
   "execution_count": 75,
   "id": "cc4861c2-838b-405c-b8fd-6182dba5c579",
   "metadata": {},
   "outputs": [
    {
     "data": {
      "text/plain": [
       "hello"
      ]
     },
     "execution_count": 75,
     "metadata": {},
     "output_type": "execute_result"
    }
   ],
   "source": [
    "x"
   ]
  },
  {
   "cell_type": "code",
   "execution_count": 76,
   "id": "49854930-bd3f-43ce-9fa7-5394f05f0829",
   "metadata": {},
   "outputs": [
    {
     "data": {
      "text/plain": [
       "0xc0005994c0"
      ]
     },
     "execution_count": 76,
     "metadata": {},
     "output_type": "execute_result"
    }
   ],
   "source": [
    "pointerToX"
   ]
  },
  {
   "cell_type": "code",
   "execution_count": 77,
   "id": "62dfca7e-c20b-4e84-bb1c-c649c833b82f",
   "metadata": {},
   "outputs": [],
   "source": [
    "x := 10\n",
    "pointerToX := &x"
   ]
  },
  {
   "cell_type": "code",
   "execution_count": 78,
   "id": "14f911c6-9582-4e90-a5ed-0910c1e1f937",
   "metadata": {},
   "outputs": [
    {
     "data": {
      "text/plain": [
       "0xc000136048"
      ]
     },
     "execution_count": 78,
     "metadata": {},
     "output_type": "execute_result"
    }
   ],
   "source": [
    "pointerToX // выводит адрес в памяти"
   ]
  },
  {
   "cell_type": "code",
   "execution_count": 79,
   "id": "3c406a3e-9340-4027-8a05-e24ca55ed747",
   "metadata": {},
   "outputs": [
    {
     "data": {
      "text/plain": [
       "10"
      ]
     },
     "execution_count": 79,
     "metadata": {},
     "output_type": "execute_result"
    }
   ],
   "source": [
    "*pointerToX // выводит 10"
   ]
  },
  {
   "cell_type": "code",
   "execution_count": 80,
   "id": "1f967c92-418a-4e17-ac6e-c8c905ef7240",
   "metadata": {},
   "outputs": [
    {
     "data": {
      "text/plain": [
       "15"
      ]
     },
     "execution_count": 80,
     "metadata": {},
     "output_type": "execute_result"
    }
   ],
   "source": [
    "z := 5 + *pointerToX\n",
    "z // выводит 15"
   ]
  },
  {
   "cell_type": "code",
   "execution_count": 81,
   "id": "05a73dc2-daf4-48ba-8447-00b50755c25d",
   "metadata": {},
   "outputs": [
    {
     "data": {
      "text/plain": [
       "true"
      ]
     },
     "execution_count": 81,
     "metadata": {},
     "output_type": "execute_result"
    }
   ],
   "source": [
    "var x *int\n",
    "x == nil // выводит true"
   ]
  },
  {
   "cell_type": "code",
   "execution_count": 82,
   "id": "0a2bc745-15b5-418b-8269-68cf9e626c5c",
   "metadata": {},
   "outputs": [
    {
     "data": {
      "text/plain": [
       "<nil>"
      ]
     },
     "execution_count": 82,
     "metadata": {},
     "output_type": "execute_result"
    }
   ],
   "source": [
    "x"
   ]
  },
  {
   "cell_type": "code",
   "execution_count": 83,
   "id": "a46dccb7-28a4-407d-9226-a7e753e35097",
   "metadata": {},
   "outputs": [
    {
     "data": {
      "text/plain": [
       "0xc000305538"
      ]
     },
     "execution_count": 83,
     "metadata": {},
     "output_type": "execute_result"
    }
   ],
   "source": [
    "&x"
   ]
  },
  {
   "cell_type": "code",
   "execution_count": 84,
   "id": "082bdfea-eef5-4515-aa57-911c1cd822a3",
   "metadata": {},
   "outputs": [
    {
     "ename": "ERROR",
     "evalue": "reflect: call of reflect.Value.Int on zero Value",
     "output_type": "error",
     "traceback": [
      "reflect: call of reflect.Value.Int on zero Value"
     ]
    }
   ],
   "source": [
    "*x // выдает панику"
   ]
  },
  {
   "cell_type": "code",
   "execution_count": 85,
   "id": "afb37a4e-adde-4943-b9a7-22a800151fa1",
   "metadata": {},
   "outputs": [],
   "source": [
    "x := 10\n",
    "var pointerToX *int\n",
    "pointerToX = &x"
   ]
  },
  {
   "cell_type": "code",
   "execution_count": 86,
   "id": "ec894800-0611-4c7b-93d6-e88afc000134",
   "metadata": {},
   "outputs": [
    {
     "data": {
      "text/plain": [
       "10"
      ]
     },
     "execution_count": 86,
     "metadata": {},
     "output_type": "execute_result"
    }
   ],
   "source": [
    "x"
   ]
  },
  {
   "cell_type": "code",
   "execution_count": 87,
   "id": "a055268b-b374-485b-87c4-8f97611d44cd",
   "metadata": {},
   "outputs": [
    {
     "data": {
      "text/plain": [
       "0xc000136050"
      ]
     },
     "execution_count": 87,
     "metadata": {},
     "output_type": "execute_result"
    }
   ],
   "source": [
    "pointerToX"
   ]
  },
  {
   "cell_type": "code",
   "execution_count": 88,
   "id": "e817cc47-da21-4aa6-ad14-8f4a080b0d3a",
   "metadata": {},
   "outputs": [
    {
     "data": {
      "text/plain": [
       "false"
      ]
     },
     "execution_count": 88,
     "metadata": {},
     "output_type": "execute_result"
    }
   ],
   "source": [
    "var x = new(int)\n",
    "x == nil // выводит false"
   ]
  },
  {
   "cell_type": "code",
   "execution_count": 89,
   "id": "dd785e21-75f0-44fa-be84-2649345d4c88",
   "metadata": {},
   "outputs": [
    {
     "data": {
      "text/plain": [
       "0"
      ]
     },
     "execution_count": 89,
     "metadata": {},
     "output_type": "execute_result"
    }
   ],
   "source": [
    "*x // выводит 0"
   ]
  },
  {
   "cell_type": "code",
   "execution_count": 90,
   "id": "9d43970a-1dc6-4c65-810f-e0da9faf12ce",
   "metadata": {},
   "outputs": [
    {
     "ename": "ERROR",
     "evalue": "repl.go:1:7: undefined identifier: Foo",
     "output_type": "error",
     "traceback": [
      "repl.go:1:7: undefined identifier: Foo"
     ]
    }
   ],
   "source": [
    "x := &Foo{}\n",
    "var y string\n",
    "z := &y"
   ]
  },
  {
   "cell_type": "code",
   "execution_count": 91,
   "id": "2b60b8e0-282e-4aad-bd96-73313c7a5045",
   "metadata": {},
   "outputs": [],
   "source": [
    "type person struct {\n",
    " FirstName string\n",
    " MiddleName *string\n",
    " LastName string\n",
    "}"
   ]
  },
  {
   "cell_type": "code",
   "execution_count": 92,
   "id": "cd8c8d72-eb42-4139-b88d-f0f7041f68e5",
   "metadata": {},
   "outputs": [
    {
     "ename": "ERROR",
     "evalue": "cannot convert untyped constant {string \"Perry\"} to <*string>",
     "output_type": "error",
     "traceback": [
      "cannot convert untyped constant {string \"Perry\"} to <*string>"
     ]
    }
   ],
   "source": [
    "p := person{\n",
    " FirstName: \"Pat\",\n",
    " MiddleName: \"Perry\", // Эта строка не скомпилируется\n",
    " LastName: \"Peterson\",\n",
    "}"
   ]
  },
  {
   "cell_type": "code",
   "execution_count": 93,
   "id": "7840f69e-42a5-407b-b203-baa64263d845",
   "metadata": {},
   "outputs": [],
   "source": [
    "func stringp(s string) *string {\n",
    " return &s\n",
    "}"
   ]
  },
  {
   "cell_type": "code",
   "execution_count": 94,
   "id": "09a1a2b0-ff3c-4731-8d8d-8c952cd3fdff",
   "metadata": {},
   "outputs": [],
   "source": [
    "p := person{\n",
    " FirstName: \"Pat\",\n",
    " MiddleName: stringp(\"Perry\"), // Это работает\n",
    " LastName: \"Peterson\",\n",
    "}"
   ]
  },
  {
   "cell_type": "code",
   "execution_count": 95,
   "id": "414e7330-381f-4f7f-b260-78bd58e97553",
   "metadata": {},
   "outputs": [
    {
     "data": {
      "text/plain": [
       "{Pat 0xc00054f1b0 Peterson}"
      ]
     },
     "execution_count": 95,
     "metadata": {},
     "output_type": "execute_result"
    }
   ],
   "source": [
    "p"
   ]
  },
  {
   "cell_type": "markdown",
   "id": "0264f634-e18e-4d2f-bdc6-a1907438e150",
   "metadata": {},
   "source": [
    "## Указатели служат для указания изменяемых параметров"
   ]
  },
  {
   "cell_type": "code",
   "execution_count": 96,
   "id": "5c3b7e65-e93d-4cb9-8839-ecceaeff8247",
   "metadata": {},
   "outputs": [],
   "source": [
    "func failedUpdate(g *int) {\n",
    " x := 10\n",
    " g = &x\n",
    "}"
   ]
  },
  {
   "cell_type": "code",
   "execution_count": 99,
   "id": "525c4e65-74dc-47a4-b65b-7aa572c81d60",
   "metadata": {},
   "outputs": [
    {
     "data": {
      "text/plain": [
       "<nil>"
      ]
     },
     "execution_count": 99,
     "metadata": {},
     "output_type": "execute_result"
    }
   ],
   "source": [
    "var f *int // переменная f содержит nil\n",
    "failedUpdate(f)\n",
    "f // выводит nil"
   ]
  },
  {
   "cell_type": "code",
   "execution_count": null,
   "id": "028cb9a5-7af4-486f-b185-f9b06d331f24",
   "metadata": {},
   "outputs": [],
   "source": []
  }
 ],
 "metadata": {
  "kernelspec": {
   "display_name": "Go",
   "language": "go",
   "name": "gophernotes"
  },
  "language_info": {
   "codemirror_mode": "",
   "file_extension": ".go",
   "mimetype": "",
   "name": "go",
   "nbconvert_exporter": "",
   "pygments_lexer": "",
   "version": "go1.23.2"
  }
 },
 "nbformat": 4,
 "nbformat_minor": 5
}
