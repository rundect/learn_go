{
 "cells": [
  {
   "cell_type": "markdown",
   "id": "d3197b0e-33b5-4410-aef8-bc733260e2a8",
   "metadata": {},
   "source": [
    "# ГЛАВА 6 Указатели"
   ]
  },
  {
   "cell_type": "markdown",
   "id": "afd49984-7a99-4566-9fb9-f040c168c487",
   "metadata": {},
   "source": [
    "## Общие сведения об указателях"
   ]
  },
  {
   "cell_type": "code",
   "execution_count": 14,
   "id": "51196ef5-80bd-4e1f-925d-5d948eebc4ad",
   "metadata": {},
   "outputs": [],
   "source": [
    "var x int32 = 10\n",
    "var y bool = true\n",
    "pointerX := &x\n",
    "pointerY := &y\n",
    "var pointerZ *string"
   ]
  },
  {
   "cell_type": "code",
   "execution_count": 15,
   "id": "faea4550-e1e6-45d3-b14d-05169d567cef",
   "metadata": {},
   "outputs": [
    {
     "data": {
      "text/plain": [
       "10"
      ]
     },
     "execution_count": 15,
     "metadata": {},
     "output_type": "execute_result"
    }
   ],
   "source": [
    "x"
   ]
  },
  {
   "cell_type": "code",
   "execution_count": 16,
   "id": "00fcdad2-29d8-4ad6-9a73-f4a1ae0f7111",
   "metadata": {},
   "outputs": [
    {
     "data": {
      "text/plain": [
       "true"
      ]
     },
     "execution_count": 16,
     "metadata": {},
     "output_type": "execute_result"
    }
   ],
   "source": [
    "y"
   ]
  },
  {
   "cell_type": "code",
   "execution_count": 17,
   "id": "d303d11d-25ac-49b6-bae3-5c9976c84fac",
   "metadata": {},
   "outputs": [
    {
     "data": {
      "text/plain": [
       "0xc000136000"
      ]
     },
     "execution_count": 17,
     "metadata": {},
     "output_type": "execute_result"
    }
   ],
   "source": [
    "pointerX"
   ]
  },
  {
   "cell_type": "code",
   "execution_count": 18,
   "id": "12a34170-dd21-4331-b2e6-6bb4cc6c52c5",
   "metadata": {},
   "outputs": [
    {
     "data": {
      "text/plain": [
       "0xc000136008"
      ]
     },
     "execution_count": 18,
     "metadata": {},
     "output_type": "execute_result"
    }
   ],
   "source": [
    "pointerY"
   ]
  },
  {
   "cell_type": "code",
   "execution_count": 19,
   "id": "3882b78c-86a5-4a84-8a93-ddc4fb2d2b3e",
   "metadata": {},
   "outputs": [
    {
     "data": {
      "text/plain": [
       "<nil>"
      ]
     },
     "execution_count": 19,
     "metadata": {},
     "output_type": "execute_result"
    }
   ],
   "source": [
    "pointerZ"
   ]
  },
  {
   "cell_type": "code",
   "execution_count": 20,
   "id": "d7a46149-54f1-437a-af96-4f5e7fdb6453",
   "metadata": {},
   "outputs": [],
   "source": [
    "x := \"hello\"\n",
    "pointerToX := &x"
   ]
  },
  {
   "cell_type": "code",
   "execution_count": 21,
   "id": "cc4861c2-838b-405c-b8fd-6182dba5c579",
   "metadata": {},
   "outputs": [
    {
     "data": {
      "text/plain": [
       "hello"
      ]
     },
     "execution_count": 21,
     "metadata": {},
     "output_type": "execute_result"
    }
   ],
   "source": [
    "x"
   ]
  },
  {
   "cell_type": "code",
   "execution_count": 22,
   "id": "49854930-bd3f-43ce-9fa7-5394f05f0829",
   "metadata": {},
   "outputs": [
    {
     "data": {
      "text/plain": [
       "0xc000356710"
      ]
     },
     "execution_count": 22,
     "metadata": {},
     "output_type": "execute_result"
    }
   ],
   "source": [
    "pointerToX"
   ]
  },
  {
   "cell_type": "code",
   "execution_count": 23,
   "id": "62dfca7e-c20b-4e84-bb1c-c649c833b82f",
   "metadata": {},
   "outputs": [],
   "source": [
    "x := 10\n",
    "pointerToX := &x"
   ]
  },
  {
   "cell_type": "code",
   "execution_count": 25,
   "id": "14f911c6-9582-4e90-a5ed-0910c1e1f937",
   "metadata": {},
   "outputs": [
    {
     "data": {
      "text/plain": [
       "0xc000136010"
      ]
     },
     "execution_count": 25,
     "metadata": {},
     "output_type": "execute_result"
    }
   ],
   "source": [
    "pointerToX // выводит адрес в памяти"
   ]
  },
  {
   "cell_type": "code",
   "execution_count": 26,
   "id": "3c406a3e-9340-4027-8a05-e24ca55ed747",
   "metadata": {},
   "outputs": [
    {
     "data": {
      "text/plain": [
       "10"
      ]
     },
     "execution_count": 26,
     "metadata": {},
     "output_type": "execute_result"
    }
   ],
   "source": [
    "*pointerToX // выводит 10"
   ]
  },
  {
   "cell_type": "code",
   "execution_count": 27,
   "id": "1f967c92-418a-4e17-ac6e-c8c905ef7240",
   "metadata": {},
   "outputs": [
    {
     "data": {
      "text/plain": [
       "15"
      ]
     },
     "execution_count": 27,
     "metadata": {},
     "output_type": "execute_result"
    }
   ],
   "source": [
    "z := 5 + *pointerToX\n",
    "z // выводит 15"
   ]
  },
  {
   "cell_type": "code",
   "execution_count": 28,
   "id": "05a73dc2-daf4-48ba-8447-00b50755c25d",
   "metadata": {},
   "outputs": [
    {
     "data": {
      "text/plain": [
       "true"
      ]
     },
     "execution_count": 28,
     "metadata": {},
     "output_type": "execute_result"
    }
   ],
   "source": [
    "var x *int\n",
    "x == nil // выводит true"
   ]
  },
  {
   "cell_type": "code",
   "execution_count": 32,
   "id": "0a2bc745-15b5-418b-8269-68cf9e626c5c",
   "metadata": {},
   "outputs": [
    {
     "data": {
      "text/plain": [
       "<nil>"
      ]
     },
     "execution_count": 32,
     "metadata": {},
     "output_type": "execute_result"
    }
   ],
   "source": [
    "x"
   ]
  },
  {
   "cell_type": "code",
   "execution_count": 30,
   "id": "a46dccb7-28a4-407d-9226-a7e753e35097",
   "metadata": {},
   "outputs": [
    {
     "data": {
      "text/plain": [
       "0xc00009cad0"
      ]
     },
     "execution_count": 30,
     "metadata": {},
     "output_type": "execute_result"
    }
   ],
   "source": [
    "&x"
   ]
  },
  {
   "cell_type": "code",
   "execution_count": 31,
   "id": "082bdfea-eef5-4515-aa57-911c1cd822a3",
   "metadata": {},
   "outputs": [
    {
     "ename": "ERROR",
     "evalue": "reflect: call of reflect.Value.Int on zero Value",
     "output_type": "error",
     "traceback": [
      "reflect: call of reflect.Value.Int on zero Value"
     ]
    }
   ],
   "source": [
    "*x // выдает панику"
   ]
  },
  {
   "cell_type": "code",
   "execution_count": null,
   "id": "afb37a4e-adde-4943-b9a7-22a800151fa1",
   "metadata": {},
   "outputs": [],
   "source": []
  }
 ],
 "metadata": {
  "kernelspec": {
   "display_name": "Go",
   "language": "go",
   "name": "gophernotes"
  },
  "language_info": {
   "codemirror_mode": "",
   "file_extension": ".go",
   "mimetype": "",
   "name": "go",
   "nbconvert_exporter": "",
   "pygments_lexer": "",
   "version": "go1.23.2"
  }
 },
 "nbformat": 4,
 "nbformat_minor": 5
}
