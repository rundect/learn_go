{
 "cells": [
  {
   "cell_type": "markdown",
   "id": "a1cb77b9-9d85-4c1d-b25a-b42b8237fed6",
   "metadata": {},
   "source": [
    "# ГЛАВА 5 Функции"
   ]
  },
  {
   "cell_type": "markdown",
   "id": "073ee598-9ac0-43fb-9140-c67d83030d7f",
   "metadata": {},
   "source": [
    "## Объявление и вызов функций"
   ]
  },
  {
   "cell_type": "code",
   "execution_count": 293,
   "id": "3e1b451d-3710-4e39-b9cf-b024c1449438",
   "metadata": {},
   "outputs": [],
   "source": [
    "func div(numerator int, denominator int) int {\n",
    "    if denominator == 0 {\n",
    "        return 0\n",
    "    }\n",
    "    return numerator / denominator\n",
    "}"
   ]
  },
  {
   "cell_type": "code",
   "execution_count": 294,
   "id": "5c79472b-1934-4d29-891e-5b2b805f665b",
   "metadata": {},
   "outputs": [
    {
     "data": {
      "text/plain": [
       "2"
      ]
     },
     "execution_count": 294,
     "metadata": {},
     "output_type": "execute_result"
    }
   ],
   "source": [
    "div(5, 2)"
   ]
  },
  {
   "cell_type": "code",
   "execution_count": 295,
   "id": "2a03efb0-4986-4f0f-8290-8b5ec770d3f7",
   "metadata": {},
   "outputs": [],
   "source": [
    "import \"fmt\"\n",
    "\n",
    "func main() {\n",
    "    result := div(5, 2)\n",
    "    fmt.Println(result)\n",
    "}"
   ]
  },
  {
   "cell_type": "code",
   "execution_count": 296,
   "id": "45f1ab38-8ae1-46e4-ba65-c4d0721baeeb",
   "metadata": {},
   "outputs": [
    {
     "name": "stdout",
     "output_type": "stream",
     "text": [
      "2\n"
     ]
    }
   ],
   "source": [
    "main()"
   ]
  },
  {
   "cell_type": "markdown",
   "id": "f9feee13-e920-45bb-ab9b-5bbd37564798",
   "metadata": {},
   "source": [
    "### Вариативные входные параметры и срезы"
   ]
  },
  {
   "cell_type": "code",
   "execution_count": 297,
   "id": "44303088-0cfc-42d1-9ebd-5258238df5a6",
   "metadata": {},
   "outputs": [],
   "source": [
    "func addTo(base int, vals ...int) []int {\n",
    "    out := make([]int, 0, len(vals))\n",
    "    for _, v := range vals {\n",
    "        out = append(out, base+v)\n",
    "    }\n",
    "    return out\n",
    "}"
   ]
  },
  {
   "cell_type": "code",
   "execution_count": 298,
   "id": "a34c07e9-d3b1-454f-b4ba-e0a231d74eb9",
   "metadata": {},
   "outputs": [],
   "source": [
    "import \"fmt\"\n",
    "\n",
    "func main() {\n",
    "    fmt.Println(addTo(3))\n",
    "    fmt.Println(addTo(3, 2))\n",
    "    fmt.Println(addTo(3, 2, 4, 6, 8))\n",
    "    a := []int{4, 3}\n",
    "    fmt.Println(addTo(3, a...))\n",
    "    fmt.Println(addTo(3, []int{1, 2, 3, 4, 5}...))\n",
    "}"
   ]
  },
  {
   "cell_type": "code",
   "execution_count": 299,
   "id": "b874aaa6-5629-46ee-abe3-83647d54002c",
   "metadata": {},
   "outputs": [
    {
     "name": "stdout",
     "output_type": "stream",
     "text": [
      "[]\n",
      "[5]\n",
      "[5 7 9 11]\n",
      "[7 6]\n",
      "[4 5 6 7 8]\n"
     ]
    }
   ],
   "source": [
    "main()"
   ]
  },
  {
   "cell_type": "markdown",
   "id": "104fbc4c-7203-4001-86bf-4096626dff5f",
   "metadata": {},
   "source": [
    "### Возврат нескольких значений"
   ]
  },
  {
   "cell_type": "code",
   "execution_count": 300,
   "id": "b2123df4-cf98-4a5b-8f56-69ae761ebf7c",
   "metadata": {},
   "outputs": [],
   "source": [
    "import \"errors\"\n",
    "\n",
    "func divAndRemainder(numerator int, denominator int) (int, int, error) {\n",
    "    if denominator == 0 {\n",
    "        return 0, 0, errors.New(\"cannot divide by zero\")\n",
    "    }\n",
    "    return numerator / denominator, numerator % denominator, nil\n",
    "}"
   ]
  },
  {
   "cell_type": "code",
   "execution_count": 301,
   "id": "a0729750-1c60-4ee6-ad79-104d8e654ac8",
   "metadata": {},
   "outputs": [],
   "source": [
    "import (\n",
    "    \"errors\"\n",
    "    \"os\"\n",
    ")\n",
    "\n",
    "func main() {\n",
    "    result, remainder, err := divAndRemainder(5, 2)\n",
    "    if err != nil {\n",
    "        fmt.Println(err)\n",
    "        os.Exit(1)\n",
    "    }\n",
    "    fmt.Println(result, remainder)\n",
    "}"
   ]
  },
  {
   "cell_type": "code",
   "execution_count": 302,
   "id": "e2df01a1-bf44-43be-8e5a-2981b6677857",
   "metadata": {},
   "outputs": [
    {
     "name": "stdout",
     "output_type": "stream",
     "text": [
      "2 1\n"
     ]
    }
   ],
   "source": [
    "main()"
   ]
  },
  {
   "cell_type": "markdown",
   "id": "bddb53d7-d7cf-457c-9e1d-886c1ad32e4e",
   "metadata": {},
   "source": [
    "### При возврате нескольких значений всегда возвращается несколько значений"
   ]
  },
  {
   "cell_type": "markdown",
   "id": "53a09aaa-58a8-4807-be88-3cda55cd6286",
   "metadata": {},
   "source": [
    "### Игнорирование возвращаемых значений"
   ]
  },
  {
   "cell_type": "code",
   "execution_count": 303,
   "id": "c9ffb2cf-9167-495c-960d-22defb6333e1",
   "metadata": {},
   "outputs": [
    {
     "data": {
      "text/plain": [
       "2"
      ]
     },
     "execution_count": 303,
     "metadata": {},
     "output_type": "execute_result"
    }
   ],
   "source": [
    "result, _, _ := divAndRemainder(5,2)\n",
    "result"
   ]
  },
  {
   "cell_type": "markdown",
   "id": "1550713b-5c70-4d98-a875-a5b5d68268cc",
   "metadata": {},
   "source": [
    "### Именованные возвращаемые значения"
   ]
  },
  {
   "cell_type": "code",
   "execution_count": 304,
   "id": "8fb7ff48-af23-4d6d-b73d-7cf53c95a586",
   "metadata": {},
   "outputs": [],
   "source": [
    "func divAndRemainder(numerator int, denominator int) (result int, remainder int, err error) {\n",
    "    if denominator == 0 {\n",
    "        err = errors.New(\"cannot divide by zero\")\n",
    "        return result, remainder, err\n",
    "    }\n",
    "    result, remainder = numerator/denominator, numerator%denominator\n",
    "    return result, remainder, err\n",
    "}"
   ]
  },
  {
   "cell_type": "code",
   "execution_count": 305,
   "id": "25e5fb5c-f9f4-4549-a2d5-10078c72179b",
   "metadata": {},
   "outputs": [],
   "source": [
    "import \"fmt\"\n",
    "\n",
    "func main() {\n",
    "    x, y, z := divAndRemainder(5, 0)\n",
    "    fmt.Println(x, y, z)\n",
    "}"
   ]
  },
  {
   "cell_type": "code",
   "execution_count": 306,
   "id": "35a85159-0b65-4adc-a49c-d873727f5020",
   "metadata": {},
   "outputs": [
    {
     "name": "stdout",
     "output_type": "stream",
     "text": [
      "0 0 cannot divide by zero\n"
     ]
    }
   ],
   "source": [
    "main()"
   ]
  },
  {
   "cell_type": "code",
   "execution_count": 307,
   "id": "4523af51-5ff8-441e-9a2a-4fcb5c48ab0f",
   "metadata": {},
   "outputs": [],
   "source": [
    "func divAndRemainder(numerator, denominator int) (result int, remainder int, err error) {\n",
    "    // присвоение значений\n",
    "    result, remainder = 20, 30\n",
    "    if denominator == 0 {\n",
    "        return 0, 0, errors.New(\"cannot divide by zero\")\n",
    "    }\n",
    "    return numerator / denominator, numerator % denominator, nil\n",
    "}"
   ]
  },
  {
   "cell_type": "code",
   "execution_count": 308,
   "id": "e503e0f6-b68a-4c13-b255-4d743e6dd7f1",
   "metadata": {},
   "outputs": [
    {
     "data": {
      "text/plain": [
       "2 1 <nil>"
      ]
     },
     "execution_count": 308,
     "metadata": {},
     "output_type": "execute_result"
    }
   ],
   "source": [
    "divAndRemainder(5,2)"
   ]
  },
  {
   "cell_type": "markdown",
   "id": "1992c41f-38e0-43d0-b0b7-9ac8f5695675",
   "metadata": {},
   "source": [
    "### Никогда не используйте пустые операторы возврата!"
   ]
  },
  {
   "cell_type": "code",
   "execution_count": 309,
   "id": "0e454074-8a99-405d-9a01-5cc927e19434",
   "metadata": {},
   "outputs": [],
   "source": [
    "func divAndRemainder(numerator, denominator int) (result int, remainder int, err error) {\n",
    "    if denominator == 0 {\n",
    "        err = errors.New(\"cannot divide by zero\")\n",
    "        return\n",
    "    }\n",
    "    result, remainder = numerator/denominator, numerator%denominator\n",
    "    return\n",
    "}"
   ]
  },
  {
   "cell_type": "code",
   "execution_count": 310,
   "id": "07f03f14-13a1-4852-a3b0-f80ef3e8d732",
   "metadata": {},
   "outputs": [
    {
     "data": {
      "text/plain": [
       "2 1 <nil>"
      ]
     },
     "execution_count": 310,
     "metadata": {},
     "output_type": "execute_result"
    }
   ],
   "source": [
    "divAndRemainder(5,2)"
   ]
  },
  {
   "cell_type": "code",
   "execution_count": 311,
   "id": "f7c93809-2bf1-48de-917b-ed61892af793",
   "metadata": {},
   "outputs": [
    {
     "data": {
      "text/plain": [
       "0 0 cannot divide by zero"
      ]
     },
     "execution_count": 311,
     "metadata": {},
     "output_type": "execute_result"
    }
   ],
   "source": [
    "divAndRemainder(5,0)"
   ]
  },
  {
   "cell_type": "markdown",
   "id": "6f7a1045-c901-4e78-8dfd-7a28b7799a53",
   "metadata": {},
   "source": [
    "## Функции являются значениями"
   ]
  },
  {
   "cell_type": "code",
   "execution_count": 312,
   "id": "13f3468a-4920-42b1-a861-1425f661a880",
   "metadata": {},
   "outputs": [],
   "source": [
    "func add(i int, j int) int { return i + j }\n",
    "func sub(i int, j int) int { return i - j }\n",
    "func mul(i int, j int) int { return i * j }\n",
    "func div(i int, j int) int { return i / j }"
   ]
  },
  {
   "cell_type": "code",
   "execution_count": 313,
   "id": "c5bdec61-9837-42f9-8c88-16eb69a38fb0",
   "metadata": {},
   "outputs": [],
   "source": [
    "var opMap = map[string]func(int, int) int{\n",
    "    \"+\": add,\n",
    "    \"-\": sub,\n",
    "    \"*\": mul,\n",
    "    \"/\": div,\n",
    "}"
   ]
  },
  {
   "cell_type": "code",
   "execution_count": 314,
   "id": "54d6be05-4106-4911-8ba4-44bd9fbd702e",
   "metadata": {},
   "outputs": [],
   "source": [
    "import (\n",
    "    \"fmt\"\n",
    "    \"strconv\"\n",
    ")\n",
    "\n",
    "func main() {\n",
    "    expressions := [][]string{\n",
    "        []string{\"2\", \"+\", \"3\"},\n",
    "        []string{\"2\", \"-\", \"3\"},\n",
    "        []string{\"2\", \"*\", \"3\"},\n",
    "        []string{\"2\", \"/\", \"3\"},\n",
    "        []string{\"2\", \"%\", \"3\"},\n",
    "        []string{\"two\", \"+\", \"three\"},\n",
    "        []string{\"5\"},\n",
    "    }\n",
    "    for _, expression := range expressions {\n",
    "        if len(expression) != 3 {\n",
    "            fmt.Println(\"invalid expression:\", expression)\n",
    "            continue\n",
    "    }\n",
    "    p1, err := strconv.Atoi(expression[0])\n",
    "    if err != nil {\n",
    "        fmt.Println(err)\n",
    "        continue\n",
    "    }\n",
    "    op := expression[1]\n",
    "    opFunc, ok := opMap[op]\n",
    "    if !ok {\n",
    "        fmt.Println(\"unsupported operator:\", op)\n",
    "        continue\n",
    "    }\n",
    "    p2, err := strconv.Atoi(expression[2])\n",
    "    if err != nil {\n",
    "        fmt.Println(err)\n",
    "        continue\n",
    "    }\n",
    "    result := opFunc(p1, p2)\n",
    "        fmt.Println(result)\n",
    "    }\n",
    "}"
   ]
  },
  {
   "cell_type": "code",
   "execution_count": 315,
   "id": "e663913b-a75b-4d8d-b114-4deb2b2bd2f9",
   "metadata": {},
   "outputs": [
    {
     "name": "stdout",
     "output_type": "stream",
     "text": [
      "5\n",
      "-1\n",
      "6\n",
      "0\n",
      "unsupported operator: %\n",
      "strconv.Atoi: parsing \"two\": invalid syntax\n",
      "invalid expression: [5]\n"
     ]
    }
   ],
   "source": [
    "main()"
   ]
  },
  {
   "cell_type": "markdown",
   "id": "bfe65b10-a1cb-4dab-a0a2-e7a3541d96e0",
   "metadata": {},
   "source": [
    "### Объявление функциональных типов"
   ]
  },
  {
   "cell_type": "code",
   "execution_count": 316,
   "id": "b3515ea7-3e1f-4c0f-b14a-0bb172199863",
   "metadata": {},
   "outputs": [],
   "source": [
    "type opFuncType func(int,int) int"
   ]
  },
  {
   "cell_type": "code",
   "execution_count": 317,
   "id": "9df97b8e-bb37-4307-86e1-d2edbd1d59d4",
   "metadata": {},
   "outputs": [],
   "source": [
    "var opMap = map[string]opFuncType {\n",
    "    \"+\": add,\n",
    "    \"-\": sub,\n",
    "    \"*\": mul,\n",
    "    \"/\": div,\n",
    "}"
   ]
  },
  {
   "cell_type": "markdown",
   "id": "6cbd5db0-632c-4569-8fb4-8c29a5377980",
   "metadata": {},
   "source": [
    "### Анонимные функции"
   ]
  },
  {
   "cell_type": "code",
   "execution_count": 318,
   "id": "b28f0acb-5131-4df5-a540-df3c5dd0763e",
   "metadata": {},
   "outputs": [],
   "source": [
    "import \"fmt\"\n",
    "\n",
    "func main() {\n",
    "    for i := 0; i < 5; i++ {\n",
    "        func(j int) {\n",
    "            fmt.Println(\"printing\", j, \"from inside of an anonymous function\")\n",
    "        }(i)\n",
    "    }\n",
    "}"
   ]
  },
  {
   "cell_type": "code",
   "execution_count": 319,
   "id": "017f83c2-1e37-4a55-98ab-e3a9b3f70a2f",
   "metadata": {},
   "outputs": [
    {
     "name": "stdout",
     "output_type": "stream",
     "text": [
      "printing 0 from inside of an anonymous function\n",
      "printing 1 from inside of an anonymous function\n",
      "printing 2 from inside of an anonymous function\n",
      "printing 3 from inside of an anonymous function\n",
      "printing 4 from inside of an anonymous function\n"
     ]
    }
   ],
   "source": [
    "main()"
   ]
  },
  {
   "cell_type": "markdown",
   "id": "ea33bf7a-5e1b-41ca-8785-ee0e9719680b",
   "metadata": {},
   "source": [
    "## Замыкания"
   ]
  },
  {
   "cell_type": "markdown",
   "id": "94ac00ab-6ee9-4c78-9a80-a356ed3a03ec",
   "metadata": {},
   "source": [
    "### Передача функций в качестве параметров"
   ]
  },
  {
   "cell_type": "code",
   "execution_count": 320,
   "id": "8caefa1f-dc2f-43f8-8374-20b327d92ba3",
   "metadata": {},
   "outputs": [],
   "source": [
    "type Person struct {\n",
    "    FirstName string\n",
    "    LastName string\n",
    "    Age int\n",
    "}"
   ]
  },
  {
   "cell_type": "code",
   "execution_count": 321,
   "id": "5fcdf51d-43b7-44f7-8898-589a9526bcec",
   "metadata": {},
   "outputs": [
    {
     "data": {
      "text/plain": [
       "[{Pat Patterson 37} {Tracy Bobbert 23} {Fred Fredson 18}]"
      ]
     },
     "execution_count": 321,
     "metadata": {},
     "output_type": "execute_result"
    }
   ],
   "source": [
    "people := []Person{\n",
    "    {\"Pat\", \"Patterson\", 37},\n",
    "    {\"Tracy\", \"Bobbert\", 23},\n",
    "    {\"Fred\", \"Fredson\", 18},\n",
    "}\n",
    "people"
   ]
  },
  {
   "cell_type": "code",
   "execution_count": 322,
   "id": "bd6364f0-ced6-481f-8e81-e50935b94fb4",
   "metadata": {},
   "outputs": [
    {
     "data": {
      "text/plain": [
       "[{Tracy Bobbert 23} {Fred Fredson 18} {Pat Patterson 37}]"
      ]
     },
     "execution_count": 322,
     "metadata": {},
     "output_type": "execute_result"
    }
   ],
   "source": [
    "import \"sort\"\n",
    "\n",
    "// сортировка по фамилии\n",
    "sort.Slice(people, func(i int, j int) bool {\n",
    "    return people[i].LastName < people[j].LastName\n",
    "})\n",
    "people"
   ]
  },
  {
   "cell_type": "code",
   "execution_count": 323,
   "id": "86d78a08-ff95-4a49-b568-8b7ffb2e0541",
   "metadata": {},
   "outputs": [
    {
     "data": {
      "text/plain": [
       "[{Fred Fredson 18} {Tracy Bobbert 23} {Pat Patterson 37}]"
      ]
     },
     "execution_count": 323,
     "metadata": {},
     "output_type": "execute_result"
    }
   ],
   "source": [
    "// сортировка по возрасту\n",
    "sort.Slice(people, func(i int, j int) bool {\n",
    "    return people[i].Age < people[j].Age\n",
    "})\n",
    "people"
   ]
  },
  {
   "cell_type": "markdown",
   "id": "49e832b4-1762-4ecd-8bba-91c4275fd43e",
   "metadata": {},
   "source": [
    "### Возвращение функций из функций"
   ]
  },
  {
   "cell_type": "code",
   "execution_count": 324,
   "id": "21fe8dbd-4c2d-46e9-b141-c89b14d164a3",
   "metadata": {},
   "outputs": [],
   "source": [
    "func makeMult(base int) func(int) int {\n",
    "    return func(factor int) int {\n",
    "        return base * factor\n",
    "    }\n",
    "}"
   ]
  },
  {
   "cell_type": "code",
   "execution_count": 325,
   "id": "ab05037a-31ed-446a-9117-bece97c22748",
   "metadata": {},
   "outputs": [],
   "source": [
    "import \"fmt\"\n",
    "\n",
    "func main() {\n",
    "    twoBase := makeMult(2)\n",
    "    threeBase := makeMult(3)\n",
    "    for i := 0; i < 3; i++ {\n",
    "        fmt.Println(twoBase(i), threeBase(i))\n",
    "    }\n",
    "}"
   ]
  },
  {
   "cell_type": "code",
   "execution_count": 326,
   "id": "8278406c-0ec0-44d4-9022-51f6bdd38959",
   "metadata": {},
   "outputs": [
    {
     "name": "stdout",
     "output_type": "stream",
     "text": [
      "0 0\n",
      "2 3\n",
      "4 6\n"
     ]
    }
   ],
   "source": [
    "main()"
   ]
  },
  {
   "cell_type": "markdown",
   "id": "5249e7e8-81ac-485e-ad7b-49495dc52259",
   "metadata": {},
   "source": [
    "## Оператор defer"
   ]
  },
  {
   "cell_type": "code",
   "execution_count": null,
   "id": "f04ee83f-f60c-4fd4-8839-f1f29f4a5e03",
   "metadata": {},
   "outputs": [],
   "source": []
  }
 ],
 "metadata": {
  "kernelspec": {
   "display_name": "Go",
   "language": "go",
   "name": "gophernotes"
  },
  "language_info": {
   "codemirror_mode": "",
   "file_extension": ".go",
   "mimetype": "",
   "name": "go",
   "nbconvert_exporter": "",
   "pygments_lexer": "",
   "version": "go1.23.2"
  }
 },
 "nbformat": 4,
 "nbformat_minor": 5
}
